{
 "cells": [
  {
   "cell_type": "code",
   "execution_count": 2,
   "metadata": {},
   "outputs": [],
   "source": [
    "import requests\n",
    "import folium\n",
    "import random\n",
    "import ipywidgets as widgets\n",
    "from IPython.display import display, clear_output"
   ]
  },
  {
   "cell_type": "markdown",
   "metadata": {},
   "source": [
    "# BUSCA DE PAÍS"
   ]
  },
  {
   "cell_type": "code",
   "execution_count": 3,
   "metadata": {},
   "outputs": [
    {
     "data": {
      "application/vnd.jupyter.widget-view+json": {
       "model_id": "71332fd762cc47908b00ca937468c9a6",
       "version_major": 2,
       "version_minor": 0
      },
      "text/plain": [
       "HBox(children=(Text(value='Brazil', description='Search:', layout=Layout(width='300px'), placeholder='Enter a …"
      ]
     },
     "metadata": {},
     "output_type": "display_data"
    },
    {
     "data": {
      "text/html": [
       "<div style=\"width:100%;\"><div style=\"position:relative;width:100%;height:0;padding-bottom:60%;\"><span style=\"color:#565656\">Make this Notebook Trusted to load map: File -> Trust Notebook</span><iframe srcdoc=\"&lt;!DOCTYPE html&gt;\n",
       "&lt;html&gt;\n",
       "&lt;head&gt;\n",
       "    \n",
       "    &lt;meta http-equiv=&quot;content-type&quot; content=&quot;text/html; charset=UTF-8&quot; /&gt;\n",
       "    \n",
       "        &lt;script&gt;\n",
       "            L_NO_TOUCH = false;\n",
       "            L_DISABLE_3D = false;\n",
       "        &lt;/script&gt;\n",
       "    \n",
       "    &lt;style&gt;html, body {width: 100%;height: 100%;margin: 0;padding: 0;}&lt;/style&gt;\n",
       "    &lt;style&gt;#map {position:absolute;top:0;bottom:0;right:0;left:0;}&lt;/style&gt;\n",
       "    &lt;script src=&quot;https://cdn.jsdelivr.net/npm/leaflet@1.9.3/dist/leaflet.js&quot;&gt;&lt;/script&gt;\n",
       "    &lt;script src=&quot;https://code.jquery.com/jquery-3.7.1.min.js&quot;&gt;&lt;/script&gt;\n",
       "    &lt;script src=&quot;https://cdn.jsdelivr.net/npm/bootstrap@5.2.2/dist/js/bootstrap.bundle.min.js&quot;&gt;&lt;/script&gt;\n",
       "    &lt;script src=&quot;https://cdnjs.cloudflare.com/ajax/libs/Leaflet.awesome-markers/2.0.2/leaflet.awesome-markers.js&quot;&gt;&lt;/script&gt;\n",
       "    &lt;link rel=&quot;stylesheet&quot; href=&quot;https://cdn.jsdelivr.net/npm/leaflet@1.9.3/dist/leaflet.css&quot;/&gt;\n",
       "    &lt;link rel=&quot;stylesheet&quot; href=&quot;https://cdn.jsdelivr.net/npm/bootstrap@5.2.2/dist/css/bootstrap.min.css&quot;/&gt;\n",
       "    &lt;link rel=&quot;stylesheet&quot; href=&quot;https://netdna.bootstrapcdn.com/bootstrap/3.0.0/css/bootstrap-glyphicons.css&quot;/&gt;\n",
       "    &lt;link rel=&quot;stylesheet&quot; href=&quot;https://cdn.jsdelivr.net/npm/@fortawesome/fontawesome-free@6.2.0/css/all.min.css&quot;/&gt;\n",
       "    &lt;link rel=&quot;stylesheet&quot; href=&quot;https://cdnjs.cloudflare.com/ajax/libs/Leaflet.awesome-markers/2.0.2/leaflet.awesome-markers.css&quot;/&gt;\n",
       "    &lt;link rel=&quot;stylesheet&quot; href=&quot;https://cdn.jsdelivr.net/gh/python-visualization/folium/folium/templates/leaflet.awesome.rotate.min.css&quot;/&gt;\n",
       "    \n",
       "            &lt;meta name=&quot;viewport&quot; content=&quot;width=device-width,\n",
       "                initial-scale=1.0, maximum-scale=1.0, user-scalable=no&quot; /&gt;\n",
       "            &lt;style&gt;\n",
       "                #map_7e205d20d6d1763b2b21be2d235bc79e {\n",
       "                    position: relative;\n",
       "                    width: 100.0%;\n",
       "                    height: 100.0%;\n",
       "                    left: 0.0%;\n",
       "                    top: 0.0%;\n",
       "                }\n",
       "                .leaflet-container { font-size: 1rem; }\n",
       "            &lt;/style&gt;\n",
       "        \n",
       "&lt;/head&gt;\n",
       "&lt;body&gt;\n",
       "    \n",
       "    \n",
       "            &lt;div class=&quot;folium-map&quot; id=&quot;map_7e205d20d6d1763b2b21be2d235bc79e&quot; &gt;&lt;/div&gt;\n",
       "        \n",
       "&lt;/body&gt;\n",
       "&lt;script&gt;\n",
       "    \n",
       "    \n",
       "            var map_7e205d20d6d1763b2b21be2d235bc79e = L.map(\n",
       "                &quot;map_7e205d20d6d1763b2b21be2d235bc79e&quot;,\n",
       "                {\n",
       "                    center: [-10.0, -55.0],\n",
       "                    crs: L.CRS.EPSG3857,\n",
       "                    zoom: 4,\n",
       "                    zoomControl: true,\n",
       "                    preferCanvas: false,\n",
       "                }\n",
       "            );\n",
       "\n",
       "            \n",
       "\n",
       "        \n",
       "    \n",
       "            var tile_layer_dddeb0fb1855d09362395f2b6428ca6f = L.tileLayer(\n",
       "                &quot;https://tile.openstreetmap.org/{z}/{x}/{y}.png&quot;,\n",
       "                {&quot;attribution&quot;: &quot;\\u0026copy; \\u003ca href=\\&quot;https://www.openstreetmap.org/copyright\\&quot;\\u003eOpenStreetMap\\u003c/a\\u003e contributors&quot;, &quot;detectRetina&quot;: false, &quot;maxNativeZoom&quot;: 19, &quot;maxZoom&quot;: 19, &quot;minZoom&quot;: 0, &quot;noWrap&quot;: false, &quot;opacity&quot;: 1, &quot;subdomains&quot;: &quot;abc&quot;, &quot;tms&quot;: false}\n",
       "            );\n",
       "        \n",
       "    \n",
       "            tile_layer_dddeb0fb1855d09362395f2b6428ca6f.addTo(map_7e205d20d6d1763b2b21be2d235bc79e);\n",
       "        \n",
       "    \n",
       "            var marker_e5d911ad097f4aa747ee7edfbf0e2061 = L.marker(\n",
       "                [-10.0, -55.0],\n",
       "                {}\n",
       "            ).addTo(map_7e205d20d6d1763b2b21be2d235bc79e);\n",
       "        \n",
       "    \n",
       "        var popup_de0cb43d3a6a03d46feebb7c45c7d29b = L.popup({&quot;maxWidth&quot;: 300});\n",
       "\n",
       "        \n",
       "            \n",
       "                var html_7d497b92cdaed841276cc9ab74e0d811 = $(`&lt;div id=&quot;html_7d497b92cdaed841276cc9ab74e0d811&quot; style=&quot;width: 100.0%; height: 100.0%;&quot;&gt;         &lt;h3&gt;Brazil&lt;/h3&gt;         &lt;img src=&quot;https://flagcdn.com/w320/br.png&quot; alt=&quot;Flag of Brazil&quot; style=&quot;width:100px; height:auto;&quot;&gt;         &lt;p&gt;&lt;strong&gt;Region:&lt;/strong&gt; Americas&lt;/p&gt;         &lt;p&gt;&lt;strong&gt;Subregion:&lt;/strong&gt; South America&lt;/p&gt;         &lt;p&gt;&lt;strong&gt;Population:&lt;/strong&gt; 212,559,409&lt;/p&gt;         &lt;p&gt;&lt;strong&gt;Capital:&lt;/strong&gt; Brasília&lt;/p&gt;         &lt;p&gt;&lt;strong&gt;Demonym:&lt;/strong&gt; Brazilian&lt;/p&gt;         &lt;/div&gt;`)[0];\n",
       "                popup_de0cb43d3a6a03d46feebb7c45c7d29b.setContent(html_7d497b92cdaed841276cc9ab74e0d811);\n",
       "            \n",
       "        \n",
       "\n",
       "        marker_e5d911ad097f4aa747ee7edfbf0e2061.bindPopup(popup_de0cb43d3a6a03d46feebb7c45c7d29b)\n",
       "        ;\n",
       "\n",
       "        \n",
       "    \n",
       "    \n",
       "            marker_e5d911ad097f4aa747ee7edfbf0e2061.bindTooltip(\n",
       "                `&lt;div&gt;\n",
       "                     Brazil\n",
       "                 &lt;/div&gt;`,\n",
       "                {&quot;sticky&quot;: true}\n",
       "            );\n",
       "        \n",
       "&lt;/script&gt;\n",
       "&lt;/html&gt;\" style=\"position:absolute;width:100%;height:100%;left:0;top:0;border:none !important;\" allowfullscreen webkitallowfullscreen mozallowfullscreen></iframe></div></div>"
      ],
      "text/plain": [
       "<folium.folium.Map at 0x186b5fae600>"
      ]
     },
     "metadata": {},
     "output_type": "display_data"
    }
   ],
   "source": [
    "# Função para tratar o clique no botão\n",
    "def on_search_click(b):\n",
    "    clear_output()  # Limpar saída anterior\n",
    "    display(widgets.HBox([text_input, search_button]))\n",
    "    search_term = text_input.value.strip()\n",
    "    if search_term:\n",
    "        fetch_country_data(search_term)\n",
    "    else:\n",
    "        print(\"Please, enter a country name\")\n",
    "\n",
    "# Função para buscar e exibir dados do país\n",
    "def fetch_country_data(country_name):\n",
    "    url = f\"https://restcountries.com/v3.1/name/{country_name}?fields=name,latlng,flags,region,subregion,population,capital,demonyms\"\n",
    "    \n",
    "    try:\n",
    "        response = requests.get(url)\n",
    "        response.raise_for_status()  # Gera um erro para status HTTP >= 400\n",
    "        country_data = response.json()\n",
    "        \n",
    "        if not country_data:\n",
    "            print(f\"Empty results for '{country_name}'.\")\n",
    "            return\n",
    "        \n",
    "        # Extraindo os dados do país\n",
    "        data = country_data[0]\n",
    "        lat, lng = data.get('latlng', [None, None])\n",
    "        flag_url = data.get('flags', {}).get('png', 'N/A')\n",
    "        region = data.get('region', 'Unkwown')\n",
    "        subregion = data.get('subregion', 'Unkwown')\n",
    "        population = data.get('population', 'N/A')\n",
    "        capital = ', '.join(data.get('capital', ['N/A']))\n",
    "        demonyms = data.get(\"demonyms\", {}).get(\"eng\", {}).get(\"m\", \"N/A\")\n",
    "        \n",
    "        if lat is None or lng is None:\n",
    "            print(f\"Coordenadas não disponíveis para '{country_name}'.\")\n",
    "            return\n",
    "        \n",
    "        # Criar o mapa\n",
    "        country_map = folium.Map(location=[lat, lng], zoom_start=4)\n",
    "        \n",
    "        # Conteúdo do popup no mapa\n",
    "        popup_content = f\"\"\"\n",
    "        <h3>{data['name']['common']}</h3>\n",
    "        <img src=\"{flag_url}\" alt=\"Flag of {country_name}\" style=\"width:100px; height:auto;\">\n",
    "        <p><strong>Region:</strong> {region}</p>\n",
    "        <p><strong>Subregion:</strong> {subregion}</p>\n",
    "        <p><strong>Population:</strong> {population:,}</p>\n",
    "        <p><strong>Capital:</strong> {capital}</p>\n",
    "        <p><strong>Demonym:</strong> {demonyms}</p>\n",
    "        \"\"\"\n",
    "        folium.Marker(location=[lat, lng], popup=folium.Popup(popup_content, max_width=300), tooltip=f\"{data['name']['common']}\").add_to(country_map)\n",
    "        \n",
    "        # Exibir o mapa\n",
    "        display(country_map)\n",
    "    \n",
    "    except requests.exceptions.RequestException as e:\n",
    "        print(f\"Erro ao buscar dados do país: {e}\")\n",
    "    except KeyError as e:\n",
    "        print(f\"Erro ao processar dados do país: Campo faltando ({e}).\")\n",
    "    except Exception as e:\n",
    "        print(f\"Ocorreu um erro inesperado: {e}\")\n",
    "\n",
    "# Criar campo de texto e botão\n",
    "text_input = widgets.Text(description='Search:', placeholder='Enter a country...', layout=widgets.Layout(width='300px'))\n",
    "search_button = widgets.Button( description='Search', button_style='success', tooltip='Click for search', icon='search')\n",
    "\n",
    "# Conectar o botão à função\n",
    "search_button.on_click(on_search_click)\n",
    "\n",
    "# Exibir os widgets\n",
    "display(widgets.HBox([text_input, search_button]))"
   ]
  },
  {
   "cell_type": "markdown",
   "metadata": {},
   "source": [
    "# Funções comuns ao jogos de bandeira e capital"
   ]
  },
  {
   "cell_type": "code",
   "execution_count": 4,
   "metadata": {},
   "outputs": [],
   "source": [
    "\n",
    "# Função para obter dados de países\n",
    "def get_country_data(country):\n",
    "    try:\n",
    "        name = country[\"name\"][\"common\"]\n",
    "    except (KeyError, TypeError):\n",
    "        name = \"Desconhecido\"\n",
    "\n",
    "    try:\n",
    "        capital = country.get(\"capital\", [\"Desconhecida\"])[0]\n",
    "    except (IndexError, TypeError):\n",
    "        capital = \"Desconhecida\"\n",
    "\n",
    "    try:\n",
    "        region = country.get(\"region\", \"Desconhecida\")\n",
    "    except (KeyError, TypeError):\n",
    "        region = \"Desconhecida\"\n",
    "\n",
    "    try:\n",
    "        flag = country[\"flags\"][\"png\"]\n",
    "    except (KeyError, TypeError):\n",
    "        flag = \"Desconhecida\"\n",
    "\n",
    "    return {\n",
    "        \"name\": name,\n",
    "        \"capital\": capital,\n",
    "        \"region\": region,\n",
    "        \"flag\": flag\n",
    "    }\n",
    "\n",
    "\n",
    "def fetch_country_data():\n",
    "    url = \"https://restcountries.com/v3.1/all?fields=name,flags,capital,region\"\n",
    "    response = requests.get(url)\n",
    "    if response.status_code == 200:\n",
    "        countries = response.json()\n",
    "        return  [\n",
    "                get_country_data(country)\n",
    "                for country in countries\n",
    "            ]\n",
    "    else:\n",
    "        print(\"Erro ao acessar a API.\")\n",
    "        return []\n"
   ]
  },
  {
   "cell_type": "markdown",
   "metadata": {},
   "source": [
    "#### JOGO DE ADIVINHAR PAÍSES COM BASE NA BANDEIRA"
   ]
  },
  {
   "cell_type": "code",
   "execution_count": null,
   "metadata": {},
   "outputs": [
    {
     "name": "stdout",
     "output_type": "stream",
     "text": [
      "Round 4/5: What is the country of this flag?\n"
     ]
    },
    {
     "data": {
      "application/vnd.jupyter.widget-view+json": {
       "model_id": "70b2eb5f04f946d9898694f23959832a",
       "version_major": 2,
       "version_minor": 0
      },
      "text/plain": [
       "Image(value=b'\\x89PNG\\r\\n\\x1a\\n\\x00\\x00\\x00\\rIHDR\\x00\\x00\\x01@\\x00\\x00\\x00\\xa0\\x08\\x03\\x00\\x00\\x00J}E\\xae\\x00\\…"
      ]
     },
     "metadata": {},
     "output_type": "display_data"
    },
    {
     "data": {
      "application/vnd.jupyter.widget-view+json": {
       "model_id": "91264695c6f04309a544764627ddb6ef",
       "version_major": 2,
       "version_minor": 0
      },
      "text/plain": [
       "ToggleButtons(description='Choose:', options=('Jordan', 'Togo', 'Chad', 'Belarus'), value=None)"
      ]
     },
     "metadata": {},
     "output_type": "display_data"
    },
    {
     "data": {
      "application/vnd.jupyter.widget-view+json": {
       "model_id": "aa8bb2d1ae9c400497c0d61a4536c9b2",
       "version_major": 2,
       "version_minor": 0
      },
      "text/plain": [
       "HBox(children=(Button(button_style='info', description='Confirm', style=ButtonStyle()), Button(button_style='s…"
      ]
     },
     "metadata": {},
     "output_type": "display_data"
    },
    {
     "name": "stdout",
     "output_type": "stream",
     "text": [
      "✅ Correct answer!\n"
     ]
    }
   ],
   "source": [
    "# Função para exibir a rodada\n",
    "def play_round():\n",
    "    global current_round, score\n",
    "    \n",
    "    if current_round < 5:\n",
    "        # Selecionar o país da rodada\n",
    "        country = game_countries[current_round]\n",
    "        \n",
    "        # Mostrar a dica (bandeira)\n",
    "        print(f\"Round {current_round + 1}/5: What is the country of this flag?\")\n",
    "        display(widgets.Image(value=requests.get(country[\"flag\"]).content))\n",
    "        \n",
    "        # Criar opções de resposta\n",
    "        options = random.sample([c[\"name\"] for c in countries], 4)\n",
    "        if country[\"name\"] not in options:\n",
    "            options[0] = country[\"name\"]  # Garantir que a resposta correta está nas opções\n",
    "        random.shuffle(options)  # Embaralhar opções\n",
    "        \n",
    "        buttons = widgets.ToggleButtons(\n",
    "            options=options,\n",
    "            description=\"Choose:\",\n",
    "            value=None\n",
    "        )\n",
    "        \n",
    "        # Botão para confirmar a resposta\n",
    "        confirm_button = widgets.Button(description=\"Confirm\", button_style=\"info\")\n",
    "\n",
    "        # \"Next\" fica desabilitado\n",
    "        next_button = widgets.Button(description=\"Next\", button_style=\"success\")\n",
    "        next_button.disabled = True\n",
    "        \n",
    "        def check_answer(b):\n",
    "            global current_round, score\n",
    "            confirm_button.disabled = True\n",
    "            if buttons.value == country[\"name\"]:\n",
    "                print(\"✅ Correct answer!\")\n",
    "                score += 1\n",
    "            else:\n",
    "                print(f\"❌ Wrong answer! The correct country is: {country['name']}\")\n",
    "                      \n",
    "            next_button.disabled = False\n",
    "\n",
    "        def go_to_next_round(b):\n",
    "            global current_round\n",
    "            current_round += 1\n",
    "            clear_output()\n",
    "            play_round()\n",
    "\n",
    "        confirm_button.on_click(check_answer)\n",
    "        next_button.on_click(go_to_next_round)\n",
    "        \n",
    "        display(buttons, widgets.HBox((confirm_button, next_button)))\n",
    "    else:\n",
    "        # Fim do jogo\n",
    "        print(f\"🏁 End of game! Your final score is {score}/5.\")\n",
    "        if score == 5:\n",
    "            print(\"🎉 Excelent! You got all right!\")\n",
    "        elif score >= 3:\n",
    "            print(\"👏 Good job! You did well!\")\n",
    "        else:\n",
    "            print(\"💡 Keep practicing, you'll get better!\")\n",
    "        \n",
    "        play_again_button = widgets.Button(description=\"Play Again\")\n",
    "        play_again_button.on_click(play_again)\n",
    "        display(play_again_button)\n",
    "\n",
    "def play_again(_):\n",
    "    global current_round, score, game_countries\n",
    "    current_round = 0\n",
    "    score = 0\n",
    "    game_countries = random.sample(countries, 5)\n",
    "    clear_output()\n",
    "    play_round()\n",
    "\n",
    "\n",
    "# Dados de países\n",
    "countries = fetch_country_data()\n",
    "if len(countries) < 5:\n",
    "    raise ValueError(\"There's no data enough. Check the API\")\n",
    "\n",
    "# Selecionar 5 países aleatórios para o jogo\n",
    "game_countries = random.sample(countries, 5)\n",
    "score = 0  # Pontuação\n",
    "current_round = 0  # Rodada atual\n",
    "\n",
    "# Iniciar o jogo\n",
    "print(\"Welcome to flag quiz!\")\n",
    "play_round()\n"
   ]
  },
  {
   "cell_type": "markdown",
   "metadata": {},
   "source": [
    "#### JOGO DE ADIVINHAR PAÍSES COM BASE NA CAPITAL"
   ]
  },
  {
   "cell_type": "code",
   "execution_count": 6,
   "metadata": {},
   "outputs": [
    {
     "name": "stdout",
     "output_type": "stream",
     "text": [
      "Welcome to flag quiz trough capitals\n",
      "Round 1/5: Which country the capital 'Kuwait City' belongs to?\n"
     ]
    },
    {
     "data": {
      "application/vnd.jupyter.widget-view+json": {
       "model_id": "fdf91767439e470f89ecface9d7781d2",
       "version_major": 2,
       "version_minor": 0
      },
      "text/plain": [
       "ToggleButtons(description='Choose:', options=('San Marino', 'Guatemala', 'Kuwait', 'Ecuador'), value=None)"
      ]
     },
     "metadata": {},
     "output_type": "display_data"
    },
    {
     "data": {
      "application/vnd.jupyter.widget-view+json": {
       "model_id": "ba0e9cd7c3d447b792673bb3df92d5ee",
       "version_major": 2,
       "version_minor": 0
      },
      "text/plain": [
       "HBox(children=(Button(button_style='info', description='Confirm', style=ButtonStyle()), Button(button_style='s…"
      ]
     },
     "metadata": {},
     "output_type": "display_data"
    },
    {
     "name": "stdout",
     "output_type": "stream",
     "text": [
      "✅ Correct answer!\n"
     ]
    }
   ],
   "source": [
    "# Função para exibir a rodada\n",
    "def play_round():\n",
    "    global current_round, score\n",
    "    \n",
    "    if current_round < 5:\n",
    "        # Selecionar o país da rodada\n",
    "        country = game_countries[current_round]\n",
    "        \n",
    "        # Mostrar a dica (bandeira)\n",
    "        print(f\"Round {current_round + 1}/5: Which country the capital '{country['capital']}' belongs to?\")\n",
    "        \n",
    "        # Criar opções de resposta\n",
    "        options = random.sample([c[\"name\"] for c in countries], 4)\n",
    "        if country[\"name\"] not in options:\n",
    "            options[0] = country[\"name\"]  # Garantir que a resposta correta está nas opções\n",
    "        random.shuffle(options)  # Embaralhar opções\n",
    "        \n",
    "        buttons = widgets.ToggleButtons(\n",
    "            options=options,\n",
    "            description=\"Choose:\",\n",
    "            value=None\n",
    "        )\n",
    "        \n",
    "        # Botão para confirmar a resposta\n",
    "        confirm_button = widgets.Button(description=\"Confirm\", button_style=\"info\")\n",
    "\n",
    "        # Inicialmente, o botão \"Next\" está desabilitado\n",
    "        next_button = widgets.Button(description=\"Next\", button_style=\"success\")\n",
    "        next_button.disabled = True\n",
    "        \n",
    "        def check_answer(b):\n",
    "            global current_round, score\n",
    "            confirm_button.disabled = True\n",
    "            if buttons.value == country[\"name\"]:\n",
    "                print(\"✅ Correct answer!\")\n",
    "                score += 1\n",
    "            else:\n",
    "                print(f\"❌ Wrong answer! The correct country is: {country['name']}\")\n",
    "                      \n",
    "            next_button.disabled = False\n",
    "\n",
    "        def go_to_next_round(b):\n",
    "            global current_round\n",
    "            current_round += 1\n",
    "            clear_output()\n",
    "            play_round()\n",
    "\n",
    "        confirm_button.on_click(check_answer)\n",
    "        next_button.on_click(go_to_next_round)\n",
    "        \n",
    "        display(buttons, widgets.HBox((confirm_button, next_button)))\n",
    "    else:\n",
    "        # Fim do jogo\n",
    "        print(f\"🏁 End of game! Your final score is {score}/5.\")\n",
    "        if score == 5:\n",
    "            print(\"🎉 Excelent! You got all right!\")\n",
    "        elif score >= 3:\n",
    "            print(\"👏 Good job! You did well!\")\n",
    "        else:\n",
    "            print(\"💡 Keep practicing, you'll get better!\")\n",
    "        \n",
    "        play_again_button = widgets.Button(description=\"Play Again\")\n",
    "        play_again_button.on_click(play_again)\n",
    "        display(play_again_button)\n",
    "\n",
    "def play_again(_):\n",
    "    global current_round, score, game_countries\n",
    "    current_round = 0\n",
    "    score = 0\n",
    "    game_countries = random.sample(countries, 5)\n",
    "    clear_output()\n",
    "    play_round()\n",
    "\n",
    "# Dados de países\n",
    "countries = fetch_country_data()\n",
    "if len(countries) < 5:\n",
    "    raise ValueError(\"There's no data enough. Check the API\")\n",
    "\n",
    "# Selecionar 5 países aleatórios para o jogo\n",
    "game_countries = random.sample(countries, 5)\n",
    "score = 0  # Pontuação\n",
    "current_round = 0  # Rodada atual\n",
    "\n",
    "# Iniciar o jogo\n",
    "print(\"Welcome to flag quiz trough capitals\")\n",
    "play_round()\n"
   ]
  }
 ],
 "metadata": {
  "kernelspec": {
   "display_name": "virtual-env-python3.12",
   "language": "python",
   "name": "python3"
  },
  "language_info": {
   "codemirror_mode": {
    "name": "ipython",
    "version": 3
   },
   "file_extension": ".py",
   "mimetype": "text/x-python",
   "name": "python",
   "nbconvert_exporter": "python",
   "pygments_lexer": "ipython3",
   "version": "3.12.4"
  }
 },
 "nbformat": 4,
 "nbformat_minor": 2
}
